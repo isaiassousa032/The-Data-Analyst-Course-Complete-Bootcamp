{
 "cells": [
  {
   "cell_type": "code",
   "execution_count": 11,
   "id": "b47cb974-5435-4936-be43-9c9f3826f5bb",
   "metadata": {},
   "outputs": [],
   "source": [
    "def compare_to_five(y):\n",
    "    if y > 5:\n",
    "        return \"Greater\"\n",
    "    elif y < 0:\n",
    "        return \"Negative\"\n",
    "    elif y < 5:\n",
    "        return \"Less\"\n",
    "    else:\n",
    "        return \"Equal\""
   ]
  },
  {
   "cell_type": "code",
   "execution_count": 8,
   "id": "f328a75f-9106-451c-893f-5f54605b73a7",
   "metadata": {},
   "outputs": [
    {
     "name": "stdout",
     "output_type": "stream",
     "text": [
      "Greater\n"
     ]
    }
   ],
   "source": [
    "print(compare_to_five(10))"
   ]
  },
  {
   "cell_type": "code",
   "execution_count": 9,
   "id": "f3860322-cd06-4240-9926-628e553ec4ef",
   "metadata": {},
   "outputs": [
    {
     "name": "stdout",
     "output_type": "stream",
     "text": [
      "Less\n"
     ]
    }
   ],
   "source": [
    "print(compare_to_five(2))"
   ]
  },
  {
   "cell_type": "code",
   "execution_count": 10,
   "id": "3532c3f0-8a2a-4269-8113-5c449c0a2a0d",
   "metadata": {},
   "outputs": [
    {
     "name": "stdout",
     "output_type": "stream",
     "text": [
      "Equal\n"
     ]
    }
   ],
   "source": [
    "print(compare_to_five(5))"
   ]
  },
  {
   "cell_type": "code",
   "execution_count": 13,
   "id": "bfa5499b-9725-4c8f-969a-145edaea09d4",
   "metadata": {},
   "outputs": [
    {
     "name": "stdout",
     "output_type": "stream",
     "text": [
      "Negative\n"
     ]
    }
   ],
   "source": [
    "print(compare_to_five(-2))"
   ]
  },
  {
   "cell_type": "code",
   "execution_count": null,
   "id": "4c4cd1e8-12fb-4d83-8d36-184364124e0b",
   "metadata": {},
   "outputs": [],
   "source": []
  }
 ],
 "metadata": {
  "kernelspec": {
   "display_name": "Python [conda env:base] *",
   "language": "python",
   "name": "conda-base-py"
  },
  "language_info": {
   "codemirror_mode": {
    "name": "ipython",
    "version": 3
   },
   "file_extension": ".py",
   "mimetype": "text/x-python",
   "name": "python",
   "nbconvert_exporter": "python",
   "pygments_lexer": "ipython3",
   "version": "3.13.5"
  }
 },
 "nbformat": 4,
 "nbformat_minor": 5
}
